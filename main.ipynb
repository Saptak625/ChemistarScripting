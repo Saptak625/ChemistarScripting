{
 "cells": [
  {
   "attachments": {},
   "cell_type": "markdown",
   "metadata": {},
   "source": [
    "# Imports\n",
    "from includes.measurement import Measurement as M\n",
    "\n",
    "from includes.equation import Equation as Eq\n",
    "\n",
    "from includes.flm.flm import FLM\n",
    "\n",
    "from includes.chemistry.element import Element as E\n",
    "\n",
    "from includes.chemistry.compound import Compound as C\n",
    "\n",
    "from includes.chemistry.chemicalequation import ChemicalEquation as Ceq\n",
    "\n",
    "from includes.chemistry.chemical_equation_solver import chemical_equation_solver as ceqs\n",
    "\n",
    "from includes.chemistry.stoichiometry import stoichiometry as stoich\n",
    "\n",
    "from includes.chemistry.limiting_reagent import limiting_reagent as lr"
   ]
  },
  {
   "cell_type": "code",
   "execution_count": 1,
   "metadata": {},
   "outputs": [],
   "source": [
    "from imports import *"
   ]
  }
 ],
 "metadata": {
  "kernelspec": {
   "display_name": "Python 3",
   "language": "python",
   "name": "python3"
  },
  "language_info": {
   "codemirror_mode": {
    "name": "ipython",
    "version": 3
   },
   "file_extension": ".py",
   "mimetype": "text/x-python",
   "name": "python",
   "nbconvert_exporter": "python",
   "pygments_lexer": "ipython3",
   "version": "3.10.4"
  },
  "orig_nbformat": 4,
  "vscode": {
   "interpreter": {
    "hash": "3ad933181bd8a04b432d3370b9dc3b0662ad032c4dfaa4e4f1596c548f763858"
   }
  }
 },
 "nbformat": 4,
 "nbformat_minor": 2
}
